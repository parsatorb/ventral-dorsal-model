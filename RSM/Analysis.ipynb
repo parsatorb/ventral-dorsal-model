{
 "cells": [
  {
   "cell_type": "markdown",
   "metadata": {},
   "source": [
    "# Introduction\n",
    "\n",
    "You can use this notebook to get the activations and the Representational Similarity Matrices (RSMs) for mouse visual areas and the pretrained models in response to natural videos. The details of the Representational Similarity Analysis are explained in the paper. \n",
    "\n",
    "You can also use this notebook to run a full comparison between all the brain areas and the pretrained models.\n"
   ]
  },
  {
   "cell_type": "markdown",
   "metadata": {},
   "source": [
    "# Get activations and RSMs for Allen data\n",
    "\n",
    "Use the code below to get the activations and Representational Similarity Matrices (RSMs) of mouse visual areas in response to natural videos. get_RSM() downloads the data specified with the arguments from Allen Brain Observatory server, and estimates RSMs and their noise ceilings for the specied population of neurons. \n"
   ]
  },
  {
   "cell_type": "code",
   "execution_count": 1,
   "metadata": {},
   "outputs": [],
   "source": [
    "from allensdk.core.brain_observatory_cache import BrainObservatoryCache\n",
    "boc = BrainObservatoryCache(manifest_file=\"C:\\\\Users\\\\Iced Fractal\\\\dev\\\\mouse_contrastive\\\\brain_observatory\\\\manifest.json\")"
   ]
  },
  {
   "cell_type": "code",
   "execution_count": 24,
   "metadata": {},
   "outputs": [],
   "source": [
    "import numpy as np\n",
    "events = np.load(\"C:\\\\Users\\\\Iced Fractal\\\\dev\\\\mouse_contrastive\\\\brain_observatory\\\\ophys_experiment_events\\\\511534603_events.npz\")"
   ]
  },
  {
   "cell_type": "code",
   "execution_count": 31,
   "metadata": {},
   "outputs": [
    {
     "data": {
      "text/plain": [
       "(213, 115477)"
      ]
     },
     "execution_count": 31,
     "metadata": {},
     "output_type": "execute_result"
    }
   ],
   "source": [
    "events[\"ev\"].shape"
   ]
  },
  {
   "cell_type": "code",
   "execution_count": 27,
   "metadata": {},
   "outputs": [
    {
     "data": {
      "text/plain": [
       "[<matplotlib.lines.Line2D at 0x227098ca850>]"
      ]
     },
     "execution_count": 27,
     "metadata": {},
     "output_type": "execute_result"
    },
    {
     "data": {
      "image/png": "[encoded data removed]",
      "text/plain": [
       "<Figure size 432x288 with 1 Axes>"
      ]
     },
     "metadata": {},
     "output_type": "display_data"
    }
   ],
   "source": [
    "plt.plot(events[\"ev\"][0])"
   ]
  },
  {
   "cell_type": "code",
   "execution_count": 2,
   "metadata": {},
   "outputs": [
    {
     "name": "stdout",
     "output_type": "stream",
     "text": [
      "allen sdk version is 2.12.3\n"
     ]
    }
   ],
   "source": [
    "from allenDataAnalysis import *\n"
   ]
  },
  {
   "cell_type": "code",
   "execution_count": 6,
   "metadata": {},
   "outputs": [],
   "source": [
    "# df_unnorm.to_csv(\"noise_ceiling_multi_runs_cux2_unnormed.csv\")"
   ]
  },
  {
   "cell_type": "code",
   "execution_count": 12,
   "metadata": {},
   "outputs": [
    {
     "name": "stdout",
     "output_type": "stream",
     "text": [
      "number of  Cux2-CreERT2 experiment containers: 16\n",
      "\n",
      "experiment container: 511510736\n",
      " : 0\n",
      "experiment container: 511510855\n",
      " : 0\n",
      "experiment container: 511509529\n",
      " : 0\n",
      "experiment container: 511507650\n",
      " : 0\n",
      "experiment container: 702934962\n",
      " : 0\n",
      "experiment container: 645413757\n",
      " : 0\n",
      "experiment container: 659767480\n",
      " : 0\n",
      "experiment container: 511510650\n",
      " : 0\n",
      "experiment container: 712178509\n",
      " : 0\n",
      "experiment container: 511510667\n",
      " : 0\n",
      "experiment container: 524691282\n",
      " : 0\n",
      "experiment container: 701412138\n",
      " : 0\n",
      "experiment container: 511510718\n",
      " : 0\n",
      "experiment container: 511510699\n",
      " : 0\n",
      "experiment container: 511510779\n",
      " : 0\n",
      "experiment container: 511510670\n",
      " : 0\n",
      "None\n"
     ]
    },
    {
     "ename": "TypeError",
     "evalue": "unsupported operand type(s) for *: 'NoneType' and 'float'",
     "output_type": "error",
     "traceback": [
      "\u001b[1;31m---------------------------------------------------------------------------\u001b[0m",
      "\u001b[1;31mTypeError\u001b[0m                                 Traceback (most recent call last)",
      "\u001b[1;32m<ipython-input-12-1d55eb52501e>\u001b[0m in \u001b[0;36m<module>\u001b[1;34m\u001b[0m\n\u001b[0;32m     19\u001b[0m \u001b[1;33m\u001b[0m\u001b[0m\n\u001b[0;32m     20\u001b[0m                 \u001b[1;31m# try:\u001b[0m\u001b[1;33m\u001b[0m\u001b[1;33m\u001b[0m\u001b[1;33m\u001b[0m\u001b[0m\n\u001b[1;32m---> 21\u001b[1;33m                 all_RSM_Allen, noise_ceiling_rsm, noise_ceiling_cka, activations, data_set, events = get_RSM(\n\u001b[0m\u001b[0;32m     22\u001b[0m                     \u001b[0mCreLine\u001b[0m \u001b[1;33m=\u001b[0m \u001b[0mcre_line\u001b[0m\u001b[1;33m,\u001b[0m \u001b[0mTargetedStruct\u001b[0m \u001b[1;33m=\u001b[0m \u001b[1;33m[\u001b[0m\u001b[0marea\u001b[0m\u001b[1;33m]\u001b[0m\u001b[1;33m,\u001b[0m\u001b[1;33m\u001b[0m\u001b[1;33m\u001b[0m\u001b[0m\n\u001b[0;32m     23\u001b[0m                     \u001b[0mImagingDepth\u001b[0m \u001b[1;33m=\u001b[0m \u001b[0mimaging_depths\u001b[0m\u001b[1;33m,\u001b[0m \u001b[0mStimType\u001b[0m \u001b[1;33m=\u001b[0m \u001b[1;34m'natural_movies_one'\u001b[0m\u001b[1;33m,\u001b[0m\u001b[0mdownsample_rate\u001b[0m \u001b[1;33m=\u001b[0m \u001b[0mdownsample_rate\u001b[0m\u001b[1;33m,\u001b[0m\u001b[1;33m\u001b[0m\u001b[1;33m\u001b[0m\u001b[0m\n",
      "\u001b[1;32mc:\\Users\\Iced Fractal\\dev\\ventral-dorsal-model\\RSM\\allenDataAnalysis.py\u001b[0m in \u001b[0;36mget_RSM\u001b[1;34m(CreLine, TargetedStruct, ImagingDepth, StimType, downsample_rate, pool_sessions)\u001b[0m\n\u001b[0;32m     31\u001b[0m         \u001b[0mnum_iter\u001b[0m \u001b[1;33m=\u001b[0m \u001b[1;36m100\u001b[0m\u001b[1;33m\u001b[0m\u001b[1;33m\u001b[0m\u001b[0m\n\u001b[0;32m     32\u001b[0m         \u001b[0mprint\u001b[0m\u001b[1;33m(\u001b[0m\u001b[0mnum_stim_conditions\u001b[0m\u001b[1;33m)\u001b[0m\u001b[1;33m\u001b[0m\u001b[1;33m\u001b[0m\u001b[0m\n\u001b[1;32m---> 33\u001b[1;33m         \u001b[0mall_RSM\u001b[0m \u001b[1;33m=\u001b[0m \u001b[0mnp\u001b[0m\u001b[1;33m.\u001b[0m\u001b[0mndarray\u001b[0m\u001b[1;33m(\u001b[0m\u001b[1;33m(\u001b[0m\u001b[0mint\u001b[0m\u001b[1;33m(\u001b[0m\u001b[0mnum_stim_conditions\u001b[0m \u001b[1;33m*\u001b[0m \u001b[0mdownsample_rate\u001b[0m\u001b[1;33m)\u001b[0m\u001b[1;33m,\u001b[0m\u001b[0mint\u001b[0m\u001b[1;33m(\u001b[0m\u001b[0mnum_stim_conditions\u001b[0m \u001b[1;33m*\u001b[0m \u001b[0mdownsample_rate\u001b[0m\u001b[1;33m)\u001b[0m\u001b[1;33m,\u001b[0m\u001b[0mnum_iter\u001b[0m\u001b[1;33m)\u001b[0m\u001b[1;33m)\u001b[0m \u001b[1;31m# multiplied by downsample_rate in the case the movie data is downsampled (only matters for the movie data)\u001b[0m\u001b[1;33m\u001b[0m\u001b[1;33m\u001b[0m\u001b[0m\n\u001b[0m\u001b[0;32m     34\u001b[0m         \u001b[1;32mfor\u001b[0m \u001b[0meccounter\u001b[0m \u001b[1;32min\u001b[0m \u001b[0mrange\u001b[0m\u001b[1;33m(\u001b[0m\u001b[1;36m0\u001b[0m\u001b[1;33m,\u001b[0m\u001b[0mnum_exp_containers\u001b[0m\u001b[1;33m)\u001b[0m\u001b[1;33m:\u001b[0m\u001b[1;31m#\u001b[0m\u001b[1;33m\u001b[0m\u001b[1;33m\u001b[0m\u001b[0m\n\u001b[0;32m     35\u001b[0m             \u001b[1;32mfor\u001b[0m \u001b[0mexpcounter\u001b[0m \u001b[1;32min\u001b[0m \u001b[0mrange\u001b[0m\u001b[1;33m(\u001b[0m\u001b[1;36m0\u001b[0m\u001b[1;33m,\u001b[0m\u001b[0mnum_exps\u001b[0m\u001b[1;33m[\u001b[0m\u001b[0meccounter\u001b[0m\u001b[1;33m]\u001b[0m\u001b[1;33m)\u001b[0m\u001b[1;33m:\u001b[0m\u001b[1;33m\u001b[0m\u001b[1;33m\u001b[0m\u001b[0m\n",
      "\u001b[1;31mTypeError\u001b[0m: unsupported operand type(s) for *: 'NoneType' and 'float'"
     ]
    }
   ],
   "source": [
    "from allenDataAnalysis import *\n",
    "import pandas as pd\n",
    "import traceback\n",
    "\n",
    "imaging_depths = boc.get_all_imaging_depths()\n",
    "# imaging_depths = [imaging_depths[:7], imaging_depths[7:16], imaging_depths[16:20], imaging_depths[20:]]\n",
    "\n",
    "# excitatory = [x for x in boc.get_all_cre_lines() if not any([inh in x for inh in [\"Vip\", \"Sst\", \"Pvalb\"]])]\n",
    "cre_lines = [\"Cux2-CreERT2\"]\n",
    "\n",
    "df = pd.DataFrame()\n",
    "df_unnorm = pd.DataFrame()\n",
    "\n",
    "for cre_line in [cre_lines]:\n",
    "    for area in [\"VISp\"]:\n",
    "            for downsample_rate in [1/5]:\n",
    "                if len(boc.get_experiment_containers(targeted_structures=[area], imaging_depths=imaging_depths, cre_lines=cre_line))<1:\n",
    "                    continue\n",
    "                \n",
    "                # try: \n",
    "                all_RSM_Allen, noise_ceiling_rsm, noise_ceiling_cka, activations, data_set, events = get_RSM(\n",
    "                    CreLine = cre_line, TargetedStruct = [area], \n",
    "                    ImagingDepth = imaging_depths, StimType = 'natural_movies_one',downsample_rate = downsample_rate, \n",
    "                    pool_sessions = True\n",
    "                    )\n",
    "                # except Exception as e: \n",
    "                #     print(\"ERROR\", e)\n",
    "                #     print(traceback.format_exc())\n",
    "                #     continue\n",
    "                \n",
    "#                 cux2_indicator = 'Cux2-CreERT2' if len(cre_line) == 1 else 'all'\n",
    "#                 print(\"Normal Values\")\n",
    "#                 print('Area: ', area, 'Depth: ', depth, 'Downsample rate: ', downsample_rate, 'cre_line: ', cre_line,\n",
    "#                     np.median(noise_ceiling_rsm), np.mean(noise_ceiling_rsm), np.min(noise_ceiling_rsm), np.max(noise_ceiling_rsm))\n",
    "#                 df = df.append({'Area': area, 'Depth': depth, 'Cre_line': cux2_indicator, \n",
    "#                                 'Downsample rate': downsample_rate, \"median\": np.median(noise_ceiling_rsm), \n",
    "#                                 \"mean\": np.mean(noise_ceiling_rsm), \"min\": np.min(noise_ceiling_rsm), \"max\": np.max(noise_ceiling_rsm), \"cka\": False}, ignore_index=True)\n",
    "\n",
    "# df.to_csv(\"noise_ceilings_all_images.csv\")\n",
    "\n",
    "#Feb 6th note:\n",
    "# Use natural_scenes for images"
   ]
  },
  {
   "cell_type": "code",
   "execution_count": 11,
   "metadata": {},
   "outputs": [
    {
     "ename": "NameError",
     "evalue": "name 'events' is not defined",
     "output_type": "error",
     "traceback": [
      "\u001b[1;31m---------------------------------------------------------------------------\u001b[0m",
      "\u001b[1;31mNameError\u001b[0m                                 Traceback (most recent call last)",
      "\u001b[1;32m<ipython-input-11-e20313f2eeba>\u001b[0m in \u001b[0;36m<module>\u001b[1;34m\u001b[0m\n\u001b[1;32m----> 1\u001b[1;33m \u001b[0mevents\u001b[0m\u001b[1;33m\u001b[0m\u001b[1;33m\u001b[0m\u001b[0m\n\u001b[0m",
      "\u001b[1;31mNameError\u001b[0m: name 'events' is not defined"
     ]
    }
   ],
   "source": [
    "events"
   ]
  },
  {
   "cell_type": "code",
   "execution_count": null,
   "metadata": {},
   "outputs": [],
   "source": []
  },
  {
   "cell_type": "code",
   "execution_count": 16,
   "metadata": {},
   "outputs": [
    {
     "data": {
      "text/plain": [
       "[[175, 185, 195, 200, 205, 225, 250],\n",
       " [265, 275, 276, 285, 300, 320, 325, 335, 350],\n",
       " [365, 375, 390, 400],\n",
       " [550, 570, 625]]"
      ]
     },
     "execution_count": 16,
     "metadata": {},
     "output_type": "execute_result"
    }
   ],
   "source": [
    "imaging_depths = boc.get_all_imaging_depths()\n",
    "imaging_depths = [imaging_depths[:7], imaging_depths[7:16], imaging_depths[16:20], imaging_depths[20:]]\n",
    "imaging_depths"
   ]
  },
  {
   "cell_type": "markdown",
   "metadata": {},
   "source": [
    "# Get activations and RSMs for ANNs\n",
    "\n",
    "Use the code below for getting the activations and Representational Similarity Matrices (RSMs) of the pretrained models (ResNet-1p and ResNet-2p) in response to natural videos.\n",
    "\n",
    "For ResNet-1p and ResNet-2p, set the backbone variable to 'monkeynet-1p' and 'monkeynet-2p', respectively. Also, use the path to the corresponding checkpoint files for the path argument in get_CPC_RSMs().\n"
   ]
  },
  {
   "cell_type": "code",
   "execution_count": null,
   "metadata": {},
   "outputs": [],
   "source": [
    "\n",
    "from deepModelsAnalysis import *\n",
    "\n",
    "model_type = 'CPC' \n",
    "backbone = 'monkeynet_2p' # 'monkeynet_1p'\n",
    "pretrained = True\n",
    "\n",
    "PATH_CPC_monkeynet_2p = os.path.join(os.getcwd(),\"../Checkpoints/cpc_p2.pth.tar\")\n",
    "PATH_CPC_monkeynet_1p = os.path.join(os.getcwd(),\"../Checkpoints/cpc_p1.pth.tar\")\n",
    "\n",
    "all_RSM_CPC, activations_CPC, model = get_CPC_RSMs(\n",
    "                                                    StimType = 'natural_movies',\n",
    "                                                    backbone = backbone,\n",
    "                                                    pretrained =pretrained,\n",
    "                                                    path=PATH_CPC_monkeynet_2p,\n",
    "                                                    frame_per_block = 5, \n",
    "                                                    ds_rate=3\n",
    "                                                    ) \n"
   ]
  },
  {
   "cell_type": "markdown",
   "metadata": {},
   "source": [
    "# Compare mouse visual areas and ANNs\n",
    "\n",
    "Use the code below to compare brain areas in mouse visual cortex and pretrained models. \n",
    "\n",
    "'model_type' argument takes a list of tuples with three elements: ('loss','backbone','path_to_checkpoint'). 'loss' can be 'CPC or 'ActionRecog'. If the path to the checkpint is not set, a randomly initialized model will be included in the comparisons.\n",
    "\n",
    "'area' argument takes a list of visual areas that will be compared with the pretrained models. \n",
    "\n",
    "The example below, compares area VISp with a randomly intialized ResNet-1p, ResNet-1p and ResNet-2p pretrained with the action recognition loss, and ResNet-1p and ResNet-2p pretrained with the CPC loss.\n"
   ]
  },
  {
   "cell_type": "code",
   "execution_count": null,
   "metadata": {},
   "outputs": [],
   "source": [
    "\n",
    "from compare_reps import *\n",
    "\n",
    "PATH_CPC_monkeynet_p2 = os.path.join(os.getcwd(),\"../Checkpoints/cpc_p2.pth.tar\")\n",
    "PATH_CPC_monkeynet_p1 = os.path.join(os.getcwd(),\"../Checkpoints/cpc_p1.pth.tar\")\n",
    "PATH_ActionRecog_monkeynet_p2 = os.path.join(os.getcwd(),\"../Checkpoints/act_recog_p2.pth.tar\")\n",
    "PATH_ActionRecog_monkeynet_p1 = os.path.join(os.getcwd(),\"../Checkpoints/act_recog_p1.pth.tar\")\n",
    "\n",
    "R = compare_reps(model_type = [('CPC','monkeynet_p1'),('ActionRecog','monkeynet_p1',PATH_ActionRecog_monkeynet_p1),('ActionRecog','monkeynet_p2',PATH_ActionRecog_monkeynet_p2),('CPC','monkeynet_p1',PATH_CPC_monkeynet_p1),('CPC','monkeynet_p2',PATH_CPC_monkeynet_p2)], \n",
    "             StimType = 'natural_movies', \n",
    "             area = [('VISp',275,'Cux2-CreERT2')], \n",
    "             path_fig = '../Figures/',\n",
    "             compare_models = True,\n",
    "             plot_hierarchy = False)\n",
    "\n"
   ]
  }
 ],
 "metadata": {
  "kernelspec": {
   "display_name": "Python 3",
   "language": "python",
   "name": "python3"
  },
  "language_info": {
   "codemirror_mode": {
    "name": "ipython",
    "version": 3
   },
   "file_extension": ".py",
   "mimetype": "text/x-python",
   "name": "python",
   "nbconvert_exporter": "python",
   "pygments_lexer": "ipython3",
   "version": "3.8.5"
  }
 },
 "nbformat": 4,
 "nbformat_minor": 4
}
